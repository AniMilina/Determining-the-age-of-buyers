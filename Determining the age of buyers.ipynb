{
 "cells": [
  {
   "cell_type": "markdown",
   "metadata": {},
   "source": [
    "# Определение возраста покупателей"
   ]
  },
  {
   "cell_type": "code",
   "execution_count": 1,
   "metadata": {},
   "outputs": [],
   "source": [
    "# !pip install opencv-python-headless\n",
    "# !pip install opencv-python\n",
    "# !pip install PyOpenGL"
   ]
  },
  {
   "cell_type": "code",
   "execution_count": 2,
   "metadata": {},
   "outputs": [],
   "source": [
    "# !pip install --upgrade numpy\n",
    "# !pip install --upgrade opencv-python"
   ]
  },
  {
   "cell_type": "code",
   "execution_count": 3,
   "metadata": {},
   "outputs": [],
   "source": [
    "import pandas as pd\n",
    "import numpy as np\n",
    "\n",
    "import os\n",
    "import warnings\n",
    "\n",
    "import matplotlib.pyplot as plt\n",
    "import seaborn as sns\n",
    "from PIL import Image\n",
    "\n",
    "# import tensorflow as tf\n",
    "# from tensorflow import keras\n",
    "# from tensorflow.keras.preprocessing.image import ImageDataGenerator\n",
    "# from tensorflow.keras.models import Sequential\n",
    "# from tensorflow.keras.applications.resnet import ResNet50\n",
    "# from tensorflow.keras.layers import GlobalAveragePooling2D, Dense\n",
    "# from tensorflow.keras.optimizers import Adam"
   ]
  },
  {
   "cell_type": "markdown",
   "metadata": {},
   "source": [
    "## Константы"
   ]
  },
  {
   "cell_type": "code",
   "execution_count": 4,
   "metadata": {},
   "outputs": [],
   "source": [
    "# TextStyle\n",
    "\n",
    "class f:    \n",
    "    BOLD = \"\\033[1m\"     # Bold text\n",
    "    ITALIC = \"\\033[3m\"   # Italic text\n",
    "    END = \"\\033[0m\"      # Reset style"
   ]
  },
  {
   "cell_type": "code",
   "execution_count": 5,
   "metadata": {},
   "outputs": [],
   "source": [
    "CR = '\\n'                                              # new line\n",
    "RS = RANDOM_STATE = RANDOM_SEED = 888                  # random_state"
   ]
  },
  {
   "cell_type": "code",
   "execution_count": 6,
   "metadata": {},
   "outputs": [],
   "source": [
    "# model\n",
    "\n",
    "LOSS = 'mean_squared_error'                            # loss function\n",
    "METRICS = ['mae']                                      # list of metrics\n",
    "VALID_FRAC = 0.20                                      # delayed sampling fraction\n",
    "IMG_SIDE = 96                                         # image side length in pixels for resize\n",
    "TARGET_SIZE = (IMG_SIDE, IMG_SIDE)                     # resized image shape\n",
    "INPUT_SHAPE = (IMG_SIDE, IMG_SIDE, 3)                  # input tensor shape\n",
    "BATCH_SIZE = 16                                        # batch size\n",
    "EPOCHS = 10                                           # maximum epoch's number\n",
    "LEARNING_RATE = 0.0001                                 # initial learning rate"
   ]
  },
  {
   "cell_type": "markdown",
   "metadata": {},
   "source": [
    "## Функции и настройки"
   ]
  },
  {
   "cell_type": "code",
   "execution_count": 7,
   "metadata": {},
   "outputs": [],
   "source": [
    "def explore_dataframe(df):\n",
    "    # Shape\n",
    "    shape_info = pd.DataFrame({\"Shape of dataframe\": [f\"Total: {df.shape[0]} rows, {df.shape[1]} columns\"]})\n",
    "    shape_info = shape_info.replace(np.nan, \"-\")\n",
    "    \n",
    "    # Data Types\n",
    "    data_types_info = df.dtypes.to_frame().reset_index().rename(columns={\"index\": \"Data Type\", 0: \"\"})\n",
    "    \n",
    "    # Missing Values\n",
    "    missing_values_info = df.isnull().sum().to_frame().reset_index().rename(columns={\"index\": \"Missing Values\", 0: \"\"})\n",
    "    missing_values_info[\"Missing Values\"] = missing_values_info[\"Missing Values\"].fillna(\"-\")\n",
    "    \n",
    "    # Duplicate Rows\n",
    "    duplicate_rows_info = pd.DataFrame({\"Duplicate Values\": [f\"Total: {df.duplicated().sum()}\"]})\n",
    "    duplicate_rows_info = duplicate_rows_info.replace(np.nan, \"-\")\n",
    "    \n",
    "     # Unique Values\n",
    "    unique_values_info = df.nunique().to_frame().reset_index().rename(columns={\"index\": \"Column\", 0: \"Unique Values\"})\n",
    "    \n",
    "    # Describe\n",
    "    describe_info = df.describe().transpose().reset_index().rename(columns={\"index\": \"Column\"})\n",
    "\n",
    "    # Concatenate tables\n",
    "    info_table = pd.concat([shape_info,data_types_info, missing_values_info, unique_values_info], axis=1) #shape_info, delite this for a while\n",
    "    \n",
    "    # Display tables\n",
    "    display(df.sample())\n",
    "    display(df.describe())  \n",
    "    display(info_table)"
   ]
  },
  {
   "cell_type": "code",
   "execution_count": 8,
   "metadata": {},
   "outputs": [],
   "source": [
    "# TextStyle\n",
    "\n",
    "class f:    \n",
    "    BOLD = \"\\033[1m\"     # Bold text\n",
    "    ITALIC = \"\\033[3m\"   # Italic text\n",
    "    END = \"\\033[0m\"      # Reset style"
   ]
  },
  {
   "cell_type": "code",
   "execution_count": 9,
   "metadata": {},
   "outputs": [],
   "source": [
    "# charts defaults\n",
    "\n",
    "PLOT_DPI = 150  # dpi for charts rendering \n",
    "sns.set_style('whitegrid', {'axes.facecolor': '0.98', 'grid.color': '0.9', 'axes.edgecolor': '1.0'})\n",
    "plt.rc(\n",
    "       'axes',\n",
    "       labelweight='bold',\n",
    "       titlesize=16,\n",
    "       titlepad=10,\n",
    "      )"
   ]
  },
  {
   "cell_type": "code",
   "execution_count": 10,
   "metadata": {},
   "outputs": [],
   "source": [
    "# Pandas defaults\n",
    "\n",
    "pd.options.display.max_colwidth = 100\n",
    "pd.options.display.max_rows = 500\n",
    "pd.options.display.max_columns = 100\n",
    "pd.options.display.float_format = '{:.3f}'.format\n",
    "pd.options.display.colheader_justify = 'left'"
   ]
  },
  {
   "cell_type": "code",
   "execution_count": 11,
   "metadata": {},
   "outputs": [],
   "source": [
    "# Disable warnings\n",
    "\n",
    "warnings.filterwarnings('ignore')"
   ]
  },
  {
   "cell_type": "markdown",
   "metadata": {},
   "source": [
    "## Исследовательский анализ данных"
   ]
  },
  {
   "cell_type": "code",
   "execution_count": 12,
   "metadata": {},
   "outputs": [],
   "source": [
    "# Загрузим данные\n",
    "\n",
    "labels = pd.read_csv('/datasets/faces/labels.csv')"
   ]
  },
  {
   "cell_type": "code",
   "execution_count": 13,
   "metadata": {
    "scrolled": true
   },
   "outputs": [
    {
     "data": {
      "text/html": [
       "<div>\n",
       "<style scoped>\n",
       "    .dataframe tbody tr th:only-of-type {\n",
       "        vertical-align: middle;\n",
       "    }\n",
       "\n",
       "    .dataframe tbody tr th {\n",
       "        vertical-align: top;\n",
       "    }\n",
       "\n",
       "    .dataframe thead th {\n",
       "        text-align: right;\n",
       "    }\n",
       "</style>\n",
       "<table border=\"1\" class=\"dataframe\">\n",
       "  <thead>\n",
       "    <tr style=\"text-align: left;\">\n",
       "      <th></th>\n",
       "      <th>file_name</th>\n",
       "      <th>real_age</th>\n",
       "    </tr>\n",
       "  </thead>\n",
       "  <tbody>\n",
       "    <tr>\n",
       "      <th>1887</th>\n",
       "      <td>001887.jpg</td>\n",
       "      <td>25</td>\n",
       "    </tr>\n",
       "  </tbody>\n",
       "</table>\n",
       "</div>"
      ],
      "text/plain": [
       "     file_name    real_age\n",
       "1887  001887.jpg  25      "
      ]
     },
     "metadata": {},
     "output_type": "display_data"
    },
    {
     "data": {
      "text/html": [
       "<div>\n",
       "<style scoped>\n",
       "    .dataframe tbody tr th:only-of-type {\n",
       "        vertical-align: middle;\n",
       "    }\n",
       "\n",
       "    .dataframe tbody tr th {\n",
       "        vertical-align: top;\n",
       "    }\n",
       "\n",
       "    .dataframe thead th {\n",
       "        text-align: right;\n",
       "    }\n",
       "</style>\n",
       "<table border=\"1\" class=\"dataframe\">\n",
       "  <thead>\n",
       "    <tr style=\"text-align: left;\">\n",
       "      <th></th>\n",
       "      <th>real_age</th>\n",
       "    </tr>\n",
       "  </thead>\n",
       "  <tbody>\n",
       "    <tr>\n",
       "      <th>count</th>\n",
       "      <td>7591.000</td>\n",
       "    </tr>\n",
       "    <tr>\n",
       "      <th>mean</th>\n",
       "      <td>31.201</td>\n",
       "    </tr>\n",
       "    <tr>\n",
       "      <th>std</th>\n",
       "      <td>17.145</td>\n",
       "    </tr>\n",
       "    <tr>\n",
       "      <th>min</th>\n",
       "      <td>1.000</td>\n",
       "    </tr>\n",
       "    <tr>\n",
       "      <th>25%</th>\n",
       "      <td>20.000</td>\n",
       "    </tr>\n",
       "    <tr>\n",
       "      <th>50%</th>\n",
       "      <td>29.000</td>\n",
       "    </tr>\n",
       "    <tr>\n",
       "      <th>75%</th>\n",
       "      <td>41.000</td>\n",
       "    </tr>\n",
       "    <tr>\n",
       "      <th>max</th>\n",
       "      <td>100.000</td>\n",
       "    </tr>\n",
       "  </tbody>\n",
       "</table>\n",
       "</div>"
      ],
      "text/plain": [
       "       real_age\n",
       "count 7591.000 \n",
       "mean    31.201 \n",
       "std     17.145 \n",
       "min      1.000 \n",
       "25%     20.000 \n",
       "50%     29.000 \n",
       "75%     41.000 \n",
       "max    100.000 "
      ]
     },
     "metadata": {},
     "output_type": "display_data"
    },
    {
     "data": {
      "text/html": [
       "<div>\n",
       "<style scoped>\n",
       "    .dataframe tbody tr th:only-of-type {\n",
       "        vertical-align: middle;\n",
       "    }\n",
       "\n",
       "    .dataframe tbody tr th {\n",
       "        vertical-align: top;\n",
       "    }\n",
       "\n",
       "    .dataframe thead th {\n",
       "        text-align: right;\n",
       "    }\n",
       "</style>\n",
       "<table border=\"1\" class=\"dataframe\">\n",
       "  <thead>\n",
       "    <tr style=\"text-align: left;\">\n",
       "      <th></th>\n",
       "      <th>Shape of dataframe</th>\n",
       "      <th>Data Type</th>\n",
       "      <th></th>\n",
       "      <th>Missing Values</th>\n",
       "      <th></th>\n",
       "      <th>Column</th>\n",
       "      <th>Unique Values</th>\n",
       "    </tr>\n",
       "  </thead>\n",
       "  <tbody>\n",
       "    <tr>\n",
       "      <th>0</th>\n",
       "      <td>Total: 7591 rows, 2 columns</td>\n",
       "      <td>file_name</td>\n",
       "      <td>object</td>\n",
       "      <td>file_name</td>\n",
       "      <td>0</td>\n",
       "      <td>file_name</td>\n",
       "      <td>7591</td>\n",
       "    </tr>\n",
       "    <tr>\n",
       "      <th>1</th>\n",
       "      <td>NaN</td>\n",
       "      <td>real_age</td>\n",
       "      <td>int64</td>\n",
       "      <td>real_age</td>\n",
       "      <td>0</td>\n",
       "      <td>real_age</td>\n",
       "      <td>97</td>\n",
       "    </tr>\n",
       "  </tbody>\n",
       "</table>\n",
       "</div>"
      ],
      "text/plain": [
       "  Shape of dataframe           Data Type          Missing Values     \\\n",
       "0  Total: 7591 rows, 2 columns  file_name  object  file_name      0   \n",
       "1                          NaN   real_age   int64   real_age      0   \n",
       "\n",
       "  Column      Unique Values  \n",
       "0  file_name  7591           \n",
       "1   real_age    97           "
      ]
     },
     "metadata": {},
     "output_type": "display_data"
    }
   ],
   "source": [
    "explore_dataframe(labels)"
   ]
  },
  {
   "cell_type": "code",
   "execution_count": 14,
   "metadata": {},
   "outputs": [
    {
     "name": "stdout",
     "output_type": "stream",
     "text": [
      "Размер выборки: 7591\n"
     ]
    }
   ],
   "source": [
    "# Посмотрим на размер выборки\n",
    "\n",
    "print(\"Размер выборки:\", len(labels))"
   ]
  },
  {
   "cell_type": "markdown",
   "metadata": {},
   "source": [
    ">Из данных, которые нам предоставили, ясно что  есть 7591 фотография с различными возрастами которые варьируются от 1 до 100 лет. Несмотря на то, что это неплохой разброс возрастов, данные всё равно не являются очень большими для обучения глубокой нейронной сети, особенно если  использовать глубокие архитектуры или архитектуры, требующие большого количества данных.  \n",
    "\n",
    "**В этом случае можно рассмотреть следующие шаги:**  \n",
    "\n",
    "`Data Augmentation:` Можно увеличить размер обучающего датасета с помощью аугментации данных. Можно применить случайные трансформации к существующим изображениям, такие как повороты, масштабирование, отражение и изменение яркости, чтобы создать дополнительные варианты обучающих изображений  \n",
    "\n",
    "`Transfer Learning:` Использование предварительно обученных модели (например, модели, обученные на больших датасетах, таких как ImageNet) и дообучить их имеющихся данных. Это может помочь улучшить производительность модели  \n",
    "\n",
    "`Использование более простых моделей:` Взять за основу менее глубокие модели с меньшим количеством параметров, которые могут лучше обучаться на небольших данных  \n",
    "\n",
    "`K-Fold Cross Validation:` Использовать K-Fold Cross Validation для оценки производительности модели. Это поможет лучше оценить, насколько хорошо модель обобщает данные и обнаружить, если она склонна к переобучению  "
   ]
  },
  {
   "cell_type": "markdown",
   "metadata": {},
   "source": [
    "### Проведем анализ распределения возрастов среди посетителей магазина"
   ]
  },
  {
   "cell_type": "code",
   "execution_count": 15,
   "metadata": {},
   "outputs": [
    {
     "name": "stdout",
     "output_type": "stream",
     "text": [
      "Минимальный возраст: 1\n",
      "Максимальный возраст: 100\n",
      "Средний возраст: 31.20\n",
      "Медианный возраст: 29.0\n",
      "25-й процентиль возраста: 20.0\n",
      "75-й процентиль возраста: 41.0\n",
      "Стандартное отклонение возраста: 17.15\n",
      "\n",
      "Наиболее часто встречающиеся возрасты:\n",
      " 30    317\n",
      "25    315\n",
      "27    229\n",
      "26    226\n",
      "28    217\n",
      "Name: real_age, dtype: int64\n",
      "\n",
      "Процентное распределение по возрастным группам:\n",
      " 19-35    43.762\n",
      "0-18     22.342\n",
      "36-50    20.985\n",
      "51-65     8.813\n",
      "66-100    4.097\n",
      "Name: age_group, dtype: float64\n"
     ]
    }
   ],
   "source": [
    "# Статистика \n",
    "\n",
    "min_age = labels['real_age'].min()\n",
    "max_age = labels['real_age'].max()\n",
    "mean_age = labels['real_age'].mean()\n",
    "median_age = labels['real_age'].median()\n",
    "quantile_25 = labels['real_age'].quantile(0.25)\n",
    "quantile_75 = labels['real_age'].quantile(0.75)\n",
    "std_age = labels['real_age'].std()\n",
    "\n",
    "# Наиболее частое значение\n",
    "\n",
    "most_common_ages = labels['real_age'].value_counts().head(5)\n",
    "\n",
    "# Распределение по группам\n",
    "\n",
    "bins = [0, 18, 35, 50, 65, 100]\n",
    "group_names = [\"0-18\", \"19-35\", \"36-50\", \"51-65\", \"66-100\"]\n",
    "labels['age_group'] = pd.cut(labels['real_age'], bins, labels=group_names)\n",
    "age_group_distribution = (labels['age_group'].value_counts(normalize=True) * 100)\n",
    "\n",
    "\n",
    "print(f\"Минимальный возраст: {min_age}\")\n",
    "print(f\"Максимальный возраст: {max_age}\")\n",
    "print(f\"Средний возраст: {mean_age:.2f}\")\n",
    "print(f\"Медианный возраст: {median_age}\")\n",
    "print(f\"25-й процентиль возраста: {quantile_25}\")\n",
    "print(f\"75-й процентиль возраста: {quantile_75}\")\n",
    "print(f\"Стандартное отклонение возраста: {std_age:.2f}\")\n",
    "print(\"\\nНаиболее часто встречающиеся возрасты:\\n\", most_common_ages)\n",
    "print(\"\\nПроцентное распределение по возрастным группам:\\n\", age_group_distribution)"
   ]
  },
  {
   "cell_type": "code",
   "execution_count": 16,
   "metadata": {},
   "outputs": [
    {
     "data": {
      "image/png": "[encoded data removed]",
      "text/plain": [
       "<Figure size 1080x720 with 1 Axes>"
      ]
     },
     "metadata": {},
     "output_type": "display_data"
    }
   ],
   "source": [
    "# Построим график распределения возраста\n",
    "\n",
    "plt.figure(figsize=(15, 10))\n",
    "plt.hist(labels['real_age'], bins=100, color='gray', edgecolor='black')\n",
    "plt.title(\"Распределение возраста в выборке\")\n",
    "plt.xlabel(\"Возраст\")\n",
    "plt.ylabel(\"Частота\")\n",
    "plt.show()"
   ]
  },
  {
   "cell_type": "markdown",
   "metadata": {},
   "source": [
    "**Из представленных данных можно сделать выводы:**\n",
    "\n",
    ">`Разнообразие возрастов:` датасет содержит фотографии людей от 1 до 100 лет. Это хорошо, так как в данных есть разнообразие возрастных групп, что может сделать модель более точной  \n",
    "\n",
    ">`Средний возраст:` Средний возраст в выборке составляет около 31 года  \n",
    "\n",
    "> `На круглых датах` — 25, 30, 40, 50, 60, 70, 80, 90 лет — наблюдаются пики, возможно назывался приблизительный возраст  \n",
    "\n",
    ">`Наиболее часто встречающиеся возраст:` В выборке чаще всего встречаются 30, 25, 27, 26 и 28 лет  \n",
    "\n",
    ">`Процентное распределение по возрастным группам:` Более 43% данных относятся к возрастной группе 19-35 лет. Это говорит о том, что в выборке много молодых людей. Возрастные группы 0-18, 36-50, 51-65 и 66-100 лет также представлены, но с меньшей частотой  \n",
    "\n",
    ">`Стандартное отклонение:` Высокое стандартное отклонение  может указывать на значительную дисперсию возрастов в данных "
   ]
  },
  {
   "cell_type": "code",
   "execution_count": 18,
   "metadata": {},
   "outputs": [],
   "source": [
    "# Выведем несколько фотографий\n",
    "\n",
    "# image_indices = range(10, 16)\n",
    "\n",
    "# fig, axes = plt.subplots(1, len(image_indices), figsize=(15, 4))\n",
    "\n",
    "# data_dir = 'C:/Users/Admin/Desktop/faces/datasets/faces/final_files'\n",
    "\n",
    "# for i, idx in enumerate(image_indices):\n",
    "#     image_path = os.path.join(data_dir, labels.iloc[idx]['file_name'])\n",
    "#     image = Image.open(image_path)\n",
    "#     axes[i].imshow(image)\n",
    "#     axes[i].set_title(f'Возраст: {labels.iloc[idx][\"real_age\"]} лет')\n",
    "#     axes[i].axis('off')\n",
    "\n",
    "# plt.show()"
   ]
  },
  {
   "cell_type": "markdown",
   "metadata": {},
   "source": [
    "### Вывод"
   ]
  },
  {
   "cell_type": "markdown",
   "metadata": {},
   "source": [
    "**Объем данных и его достаточность:**  \n",
    "\n",
    ">В датасете насчитывается 7591 фотография с возрастами, варьирующимися от 1 до 100 лет. Несмотря на неплохой разброс возрастов, количество данных ограничено, особенно для обучения глубоких нейронных сетей. Большинство современных архитектур требуют значительного объема данных для достижения высокой производительности  \n",
    "\n",
    "**Рекомендации по улучшению обучения модели:**  \n",
    "\n",
    ">`Аугментация данных:` Один из подходов для увеличения размера обучающего датасета - это использование аугментации данных. Можно применить случайные трансформации (повороты, масштабирование, отражение, изменение яркости) к существующим изображениям для создания дополнительных вариаций  \n",
    "\n",
    ">`Использование предобученных моделей:` Можно воспользоваться предобученными моделями, обученными на более крупных датасетах, таких как ImageNet, и дообучить их на имеющихся данных  \n",
    "\n",
    ">`Использование более простых моделей:` Вместо глубоких архитектур можно рассмотреть менее глубокие модели с меньшим числом параметров. Они могут быть более устойчивыми к недостаточному количеству данных  \n",
    "\n",
    "**Анализ возрастных данных:**  \n",
    "\n",
    ">`Разнообразие возрастов:` В датасете представлены фотографии людей всех возрастов от 1 до 100 лет. Это положительное обстоятельство, так как разнообразие возрастных групп способствует обучению модели более точно предсказывать возраст  \n",
    "\n",
    ">`Средний возраст:` Средний возраст в выборке составляет около 31 года. Эта информация может помочь нам понять, какие возрастные группы представлены в датасете  \n",
    "\n",
    ">`Наиболее часто встречающиеся возрасты:` В выборке наиболее часто встречаются фотографии людей возрастом 30, 25, 27, 26 и 28 лет  \n",
    "\n",
    ">`Процентное распределение по возрастным группам:` Более 43% данных относятся к возрастной группе 19-35 лет, что указывает на преобладание молодых людей в выборке  \n",
    "\n",
    ">`Дисперсия возрастных данных:` Высокое стандартное отклонение (17.15) говорит о значительной дисперсии. Дисперсия предоставляет информацию о степени изменчивости возраста. Если дисперсия высока это означает, что возрастные данные имеют большой разброс вокруг среднего значения, а если дисперсия низкая то наоборот. Высокая дисперсия может быть интерпретирована как большая разница между возрастами в выборке, в то время как низкая дисперсия указывает на более узкое распределение возрастов вокруг среднего значения  "
   ]
  },
  {
   "cell_type": "markdown",
   "metadata": {},
   "source": [
    "## Обучение модели. Вариант 3"
   ]
  },
  {
   "cell_type": "markdown",
   "metadata": {},
   "source": [
    "```python\n",
    "\n",
    "# < скопируйте код сюда >\n",
    "\n",
    "PATH_IMAGES = 'C:/Users/Admin/Desktop/faces/datasets/faces/final_files'  \n",
    "\n",
    "def load_data(mode):\n",
    "    '''\n",
    "    Создает \"генератор изображений\" (изображения загружает из заданной папки).\n",
    "    mode: \"training\" — создание обучающего набора,\n",
    "          \"validation\" — создание валидационного набора,\n",
    "    '''\n",
    "\n",
    "    data = pd.read_csv('C:/Users/Admin/Desktop/faces/datasets/faces/labels.csv')\n",
    "\n",
    "    if mode == 'training':\n",
    "        data_gen = ImageDataGenerator(\n",
    "                                      rescale=1/255,\n",
    "                                      validation_split=VALID_FRAC,\n",
    "                                     )\n",
    "    elif mode == 'validation':\n",
    "        data_gen = ImageDataGenerator(\n",
    "                                      rescale=1/255,\n",
    "                                      validation_split=VALID_FRAC,\n",
    "                                     )\n",
    "\n",
    "    data_gen_flow = data_gen.flow_from_dataframe(\n",
    "                                                 directory=PATH_IMAGES,\n",
    "                                                 dataframe=data,\n",
    "                                                 x_col='file_name',\n",
    "                                                 y_col='real_age',\n",
    "                                                 target_size=TARGET_SIZE,\n",
    "                                                 batch_size=BATCH_SIZE,\n",
    "                                                 subset=mode,\n",
    "                                                 class_mode='raw',\n",
    "                                                 seed=RS,\n",
    "                                                )\n",
    "    return data_gen_flow  \n",
    "\n",
    "def create_model(input_shape):\n",
    "    '''\n",
    "    Создание модели на базе ResNet50.\n",
    "    input_shape: форма входного тензора.\n",
    "    '''\n",
    "\n",
    "    backbone = ResNet50(\n",
    "                        input_shape=input_shape,\n",
    "                        weights='imagenet',\n",
    "                        include_top=False,\n",
    "                       )\n",
    "    model = Sequential()\n",
    "    model.add(backbone)\n",
    "    model.add(GlobalAveragePooling2D())\n",
    "    model.add(Dense(1, activation='relu'))\n",
    "    model.compile(loss=LOSS, optimizer=Adam(learning_rate=LEARNING_RATE), metrics=METRICS)\n",
    "\n",
    "    return model  \n",
    "\n",
    "def train_model(model, data_train, data_test,\n",
    "                batch_size=None, epochs=1,\n",
    "                steps_train=None, steps_valid=None):\n",
    "\n",
    "    if steps_train is None:\n",
    "        steps_train = len(data_train)\n",
    "    if steps_valid is None:\n",
    "        steps_valid = len(data_test)\n",
    "\n",
    "    model.fit(\n",
    "              data_train,\n",
    "              validation_data=data_test,\n",
    "              batch_size=batch_size,\n",
    "              epochs=epochs,\n",
    "              steps_per_epoch=steps_train,\n",
    "              validation_steps=steps_valid,\n",
    "              verbose=2,\n",
    "             )\n",
    "\n",
    "    return model\n",
    "\n",
    "%%time\n",
    "\n",
    "    model = train_model(\n",
    "                        model=create_model(input_shape=INPUT_SHAPE),\n",
    "                        data_train=load_data(mode='training'),\n",
    "                        data_test=load_data(mode='validation'),\n",
    "                        batch_size=BATCH_SIZE,\n",
    "                        epochs=EPOCHS,\n",
    "#                         steps_train=1,\n",
    "#                         steps_valid=1,\n",
    "                       )\n",
    "\n",
    "# Получите последнее значение MAE\n",
    "```"
   ]
  },
  {
   "cell_type": "markdown",
   "metadata": {},
   "source": [
    "```\n",
    "\n",
    "# < скопируйте результат вывода на экран сюда >\n",
    "\n",
    "Found 6073 validated image filenames.\n",
    "Found 1518 validated image filenames.\n",
    "Epoch 1/10\n",
    "380/380 - 430s - loss: 317.8112 - mae: 13.2307 - val_loss: 516.3353 - val_mae: 17.3333 - 430s/epoch - 1s/step\n",
    "Epoch 2/10\n",
    "380/380 - 422s - loss: 108.5456 - mae: 7.9339 - val_loss: 193.2786 - val_mae: 10.4436 - 422s/epoch - 1s/step\n",
    "Epoch 3/10\n",
    "380/380 - 423s - loss: 61.7294 - mae: 6.0247 - val_loss: 102.7558 - val_mae: 7.7372 - 423s/epoch - 1s/step\n",
    "Epoch 4/10\n",
    "380/380 - 424s - loss: 36.3859 - mae: 4.6567 - val_loss: 102.6790 - val_mae: 7.6274 - 424s/epoch - 1s/step\n",
    "Epoch 5/10\n",
    "380/380 - 425s - loss: 27.6809 - mae: 4.0713 - val_loss: 101.9409 - val_mae: 7.7393 - 425s/epoch - 1s/step\n",
    "Epoch 6/10\n",
    "380/380 - 426s - loss: 23.6459 - mae: 3.7188 - val_loss: 93.6605 - val_mae: 7.4321 - 426s/epoch - 1s/step\n",
    "Epoch 7/10\n",
    "380/380 - 423s - loss: 19.5597 - mae: 3.3891 - val_loss: 100.6324 - val_mae: 7.4877 - 423s/epoch - 1s/step\n",
    "Epoch 8/10\n",
    "380/380 - 425s - loss: 15.9398 - mae: 3.0702 - val_loss: 89.8797 - val_mae: 7.2447 - 425s/epoch - 1s/step\n",
    "Epoch 9/10\n",
    "380/380 - 423s - loss: 14.5531 - mae: 2.9256 - val_loss: 99.4930 - val_mae: 7.6986 - 423s/epoch - 1s/step\n",
    "Epoch 10/10\n",
    "380/380 - 423s - loss: 14.9610 - mae: 2.9461 - val_loss: 95.9471 - val_mae: 7.5907 - 423s/epoch - 1s/step\n",
    "Wall time: 1h 10min 45s\n",
    "\n",
    "# < длинные строки со скачиванием модели можно удалить >\n",
    "\n",
    "```"
   ]
  },
  {
   "cell_type": "markdown",
   "metadata": {},
   "source": [
    "## Вывод"
   ]
  },
  {
   "cell_type": "markdown",
   "metadata": {},
   "source": [
    "**Построение и Обучение Модели:**  \n",
    "\n",
    ">Для решения задачи определения возраста на фотографиях была использована архитектура нейронной сети ResNet50. В качестве предобученной модели была выбрана модель с весами, обученными на наборе данных ImageNet. Данная модель была загружена без верхних слоев (include_top=False), что позволило использовать ее для извлечения признаков из изображений  \n",
    "\n",
    "**Обучение:**\n",
    "\n",
    ">Количество эпох: 10  \n",
    "Размер батча: 16   \n",
    "Оптимизатор: Adam с learning rate 0.0001  \n",
    "Аугментация данных: В качестве аугментации данных было применено масштабирование пикселей изображений в диапазоне [0, 1]  \n",
    "\n",
    "**Результаты:**  \n",
    "\n",
    ">Модель обучалась на наборе данных, разделенном на обучающую и валидационную выборки в соотношении 80/20. Обучение проходило в течение 10 эпох  \n",
    "\n",
    "**Полученные результаты модели на валидационной выборке:**  \n",
    "\n",
    ">Loss (MAE) после 10 эпох обучения: 7.5907 \n",
    "\n",
    "**Оценка и Выводы:**  \n",
    "\n",
    ">Используя архитектуру ResNet50 с предобученными весами, мы получили среднюю абсолютную ошибку (MAE) около 2.9461 на валидационной выборке. Это означает, что модель в среднем ошибается на 2.9461 лет при предсказании возраста на новых фотографиях  \n",
    "\n",
    ">Что касается переобучения, модель не столкнулась с переобучением в процессе обучения. Это может быть связано с использованием предобученных весов и аугментацией данных, что способствует лучшей обобщающей способности модели  "
   ]
  }
 ],
 "metadata": {
  "ExecuteTimeLog": [
   {
    "duration": 6802,
    "start_time": "2023-09-01T11:03:00.349Z"
   },
   {
    "duration": 826,
    "start_time": "2023-09-01T11:03:07.154Z"
   },
   {
    "duration": 0,
    "start_time": "2023-09-01T11:03:07.981Z"
   },
   {
    "duration": 0,
    "start_time": "2023-09-01T11:03:07.982Z"
   },
   {
    "duration": 0,
    "start_time": "2023-09-01T11:03:07.983Z"
   },
   {
    "duration": 0,
    "start_time": "2023-09-01T11:03:07.984Z"
   },
   {
    "duration": 35490,
    "start_time": "2023-09-01T11:04:57.346Z"
   },
   {
    "duration": 39616,
    "start_time": "2023-09-01T11:05:32.839Z"
   },
   {
    "duration": 38,
    "start_time": "2023-09-01T11:06:12.458Z"
   },
   {
    "duration": 34,
    "start_time": "2023-09-01T11:06:41.263Z"
   },
   {
    "duration": 21104,
    "start_time": "2023-09-02T06:54:46.887Z"
   },
   {
    "duration": 13111,
    "start_time": "2023-09-02T06:55:29.076Z"
   },
   {
    "duration": 1801,
    "start_time": "2023-09-02T06:55:50.908Z"
   },
   {
    "duration": 2,
    "start_time": "2023-09-02T06:56:05.692Z"
   },
   {
    "duration": 998,
    "start_time": "2023-09-02T06:56:06.484Z"
   },
   {
    "duration": 4,
    "start_time": "2023-09-03T17:30:29.248Z"
   },
   {
    "duration": 3,
    "start_time": "2023-09-03T17:30:30.474Z"
   },
   {
    "duration": 2377,
    "start_time": "2023-09-03T17:32:28.310Z"
   },
   {
    "duration": 41,
    "start_time": "2023-09-03T17:32:34.749Z"
   },
   {
    "duration": 4,
    "start_time": "2023-09-03T17:32:36.742Z"
   },
   {
    "duration": 171,
    "start_time": "2023-09-03T17:32:37.947Z"
   },
   {
    "duration": 580,
    "start_time": "2023-09-03T17:32:39.902Z"
   },
   {
    "duration": 4,
    "start_time": "2023-09-03T18:23:16.480Z"
   },
   {
    "duration": 55,
    "start_time": "2023-09-03T18:23:17.424Z"
   },
   {
    "duration": 17,
    "start_time": "2023-09-03T18:23:18.439Z"
   },
   {
    "duration": 3,
    "start_time": "2023-09-03T19:22:10.808Z"
   },
   {
    "duration": 16,
    "start_time": "2023-09-03T19:22:10.814Z"
   },
   {
    "duration": 2336,
    "start_time": "2023-09-03T19:22:10.832Z"
   },
   {
    "duration": 43,
    "start_time": "2023-09-03T19:22:13.169Z"
   },
   {
    "duration": 12,
    "start_time": "2023-09-03T19:22:13.213Z"
   },
   {
    "duration": 3,
    "start_time": "2023-09-03T19:22:13.226Z"
   },
   {
    "duration": 174,
    "start_time": "2023-09-03T19:22:13.230Z"
   },
   {
    "duration": 695,
    "start_time": "2023-09-03T19:22:13.406Z"
   },
   {
    "duration": 3,
    "start_time": "2023-09-04T07:50:44.875Z"
   },
   {
    "duration": 2,
    "start_time": "2023-09-04T07:50:45.132Z"
   },
   {
    "duration": 2706,
    "start_time": "2023-09-04T07:50:45.469Z"
   },
   {
    "duration": 112,
    "start_time": "2023-09-04T07:50:48.177Z"
   },
   {
    "duration": 14,
    "start_time": "2023-09-04T07:50:48.291Z"
   },
   {
    "duration": 2,
    "start_time": "2023-09-04T07:51:08.495Z"
   },
   {
    "duration": 46,
    "start_time": "2023-09-04T07:51:12.329Z"
   },
   {
    "duration": 246,
    "start_time": "2023-09-04T07:51:12.782Z"
   },
   {
    "duration": 14,
    "start_time": "2023-09-04T07:51:31.235Z"
   },
   {
    "duration": 16,
    "start_time": "2023-09-04T07:51:40.851Z"
   },
   {
    "duration": 3,
    "start_time": "2023-09-04T07:51:42.309Z"
   },
   {
    "duration": 270,
    "start_time": "2023-09-04T07:51:55.970Z"
   },
   {
    "duration": 794,
    "start_time": "2023-09-04T07:52:16.807Z"
   },
   {
    "duration": 3,
    "start_time": "2023-09-04T08:45:12.351Z"
   },
   {
    "duration": 149,
    "start_time": "2023-09-04T08:45:13.266Z"
   },
   {
    "duration": 42,
    "start_time": "2023-09-04T08:45:14.280Z"
   },
   {
    "duration": 29,
    "start_time": "2023-09-04T08:45:17.522Z"
   },
   {
    "duration": 3,
    "start_time": "2023-09-04T08:45:41.056Z"
   },
   {
    "duration": 6,
    "start_time": "2023-09-04T08:45:41.557Z"
   },
   {
    "duration": 42,
    "start_time": "2023-09-04T08:45:42.880Z"
   },
   {
    "duration": 44,
    "start_time": "2023-09-04T08:45:43.641Z"
   },
   {
    "duration": 6,
    "start_time": "2023-09-04T08:48:06.624Z"
   },
   {
    "duration": 42,
    "start_time": "2023-09-04T08:48:07.755Z"
   },
   {
    "duration": 39,
    "start_time": "2023-09-04T08:48:08.198Z"
   },
   {
    "duration": 275,
    "start_time": "2023-09-04T08:59:20.484Z"
   },
   {
    "duration": 19,
    "start_time": "2023-09-04T09:05:37.868Z"
   },
   {
    "duration": 2,
    "start_time": "2023-09-04T09:53:10.389Z"
   },
   {
    "duration": 28,
    "start_time": "2023-09-04T09:53:10.394Z"
   },
   {
    "duration": 30,
    "start_time": "2023-09-04T09:53:10.424Z"
   },
   {
    "duration": 65,
    "start_time": "2023-09-04T09:53:10.456Z"
   },
   {
    "duration": 88,
    "start_time": "2023-09-04T09:53:10.523Z"
   },
   {
    "duration": 39,
    "start_time": "2023-09-04T09:53:10.612Z"
   },
   {
    "duration": 18,
    "start_time": "2023-09-04T09:53:10.652Z"
   },
   {
    "duration": 134,
    "start_time": "2023-09-04T09:53:10.672Z"
   },
   {
    "duration": 538,
    "start_time": "2023-09-04T09:53:10.809Z"
   },
   {
    "duration": 583,
    "start_time": "2023-09-04T09:53:11.348Z"
   },
   {
    "duration": 5,
    "start_time": "2023-09-06T07:25:39.716Z"
   },
   {
    "duration": 27,
    "start_time": "2023-09-06T07:25:39.724Z"
   },
   {
    "duration": 3017,
    "start_time": "2023-09-06T07:25:40.087Z"
   },
   {
    "duration": 7,
    "start_time": "2023-09-06T07:25:43.107Z"
   },
   {
    "duration": 120,
    "start_time": "2023-09-06T07:25:43.115Z"
   },
   {
    "duration": 67,
    "start_time": "2023-09-06T07:25:43.238Z"
   },
   {
    "duration": 4,
    "start_time": "2023-09-06T07:25:43.308Z"
   },
   {
    "duration": 45,
    "start_time": "2023-09-06T07:25:43.315Z"
   },
   {
    "duration": 320,
    "start_time": "2023-09-06T07:25:43.362Z"
   },
   {
    "duration": 868,
    "start_time": "2023-09-06T07:25:43.685Z"
   },
   {
    "duration": 4,
    "start_time": "2023-09-08T10:24:26.335Z"
   },
   {
    "duration": 61,
    "start_time": "2023-09-08T10:24:26.345Z"
   },
   {
    "duration": 1429,
    "start_time": "2023-09-08T10:24:26.408Z"
   },
   {
    "duration": 3,
    "start_time": "2023-09-08T10:24:27.840Z"
   },
   {
    "duration": 12,
    "start_time": "2023-09-08T10:24:27.845Z"
   },
   {
    "duration": 11,
    "start_time": "2023-09-08T10:24:27.860Z"
   },
   {
    "duration": 17,
    "start_time": "2023-09-08T10:24:27.872Z"
   },
   {
    "duration": 23,
    "start_time": "2023-09-08T10:24:27.890Z"
   },
   {
    "duration": 23,
    "start_time": "2023-09-08T10:24:27.915Z"
   },
   {
    "duration": 19,
    "start_time": "2023-09-08T10:24:27.940Z"
   },
   {
    "duration": 6,
    "start_time": "2023-09-08T10:24:27.961Z"
   },
   {
    "duration": 134,
    "start_time": "2023-09-08T10:24:27.969Z"
   },
   {
    "duration": 47,
    "start_time": "2023-09-08T10:24:28.105Z"
   },
   {
    "duration": 4,
    "start_time": "2023-09-08T10:24:28.154Z"
   },
   {
    "duration": 30,
    "start_time": "2023-09-08T10:24:28.160Z"
   },
   {
    "duration": 365,
    "start_time": "2023-09-08T10:24:28.192Z"
   },
   {
    "duration": 716,
    "start_time": "2023-09-08T10:24:28.558Z"
   },
   {
    "duration": 566,
    "start_time": "2023-09-08T10:25:18.561Z"
   },
   {
    "duration": 783,
    "start_time": "2023-09-08T10:27:13.097Z"
   },
   {
    "duration": 642,
    "start_time": "2023-09-08T10:28:52.918Z"
   },
   {
    "duration": 597,
    "start_time": "2023-09-08T10:30:46.511Z"
   },
   {
    "duration": 3,
    "start_time": "2023-09-08T10:30:57.558Z"
   },
   {
    "duration": 4,
    "start_time": "2023-09-08T10:30:57.563Z"
   },
   {
    "duration": 1178,
    "start_time": "2023-09-08T10:30:57.568Z"
   },
   {
    "duration": 3,
    "start_time": "2023-09-08T10:30:58.748Z"
   },
   {
    "duration": 7,
    "start_time": "2023-09-08T10:30:58.752Z"
   },
   {
    "duration": 7,
    "start_time": "2023-09-08T10:30:58.760Z"
   },
   {
    "duration": 15,
    "start_time": "2023-09-08T10:30:58.768Z"
   },
   {
    "duration": 13,
    "start_time": "2023-09-08T10:30:58.785Z"
   },
   {
    "duration": 10,
    "start_time": "2023-09-08T10:30:58.799Z"
   },
   {
    "duration": 18,
    "start_time": "2023-09-08T10:30:58.810Z"
   },
   {
    "duration": 4,
    "start_time": "2023-09-08T10:30:58.830Z"
   },
   {
    "duration": 52,
    "start_time": "2023-09-08T10:30:58.836Z"
   },
   {
    "duration": 50,
    "start_time": "2023-09-08T10:30:58.890Z"
   },
   {
    "duration": 3,
    "start_time": "2023-09-08T10:30:58.941Z"
   },
   {
    "duration": 21,
    "start_time": "2023-09-08T10:30:58.946Z"
   },
   {
    "duration": 335,
    "start_time": "2023-09-08T10:30:58.968Z"
   },
   {
    "duration": 642,
    "start_time": "2023-09-08T10:30:59.305Z"
   },
   {
    "duration": 3,
    "start_time": "2023-09-08T10:31:16.523Z"
   }
  ],
  "kernelspec": {
   "display_name": "Python 3 (ipykernel)",
   "language": "python",
   "name": "python3"
  },
  "language_info": {
   "codemirror_mode": {
    "name": "ipython",
    "version": 3
   },
   "file_extension": ".py",
   "mimetype": "text/x-python",
   "name": "python",
   "nbconvert_exporter": "python",
   "pygments_lexer": "ipython3",
   "version": "3.9.5"
  },
  "toc": {
   "base_numbering": 1,
   "nav_menu": {},
   "number_sections": true,
   "sideBar": true,
   "skip_h1_title": true,
   "title_cell": "Table of Contents",
   "title_sidebar": "Contents",
   "toc_cell": false,
   "toc_position": {},
   "toc_section_display": true,
   "toc_window_display": false
  }
 },
 "nbformat": 4,
 "nbformat_minor": 2
}
